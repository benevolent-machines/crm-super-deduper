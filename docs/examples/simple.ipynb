{
  "nbformat": 4,
  "nbformat_minor": 0,
  "metadata": {
    "colab": {
      "provenance": [],
      "authorship_tag": "ABX9TyOqaXH8mT/3Yyy+27fyVcZD",
      "include_colab_link": true
    },
    "kernelspec": {
      "name": "python3",
      "display_name": "Python 3"
    },
    "language_info": {
      "name": "python"
    }
  },
  "cells": [
    {
      "cell_type": "markdown",
      "metadata": {
        "id": "view-in-github",
        "colab_type": "text"
      },
      "source": [
        "<a href=\"https://colab.research.google.com/github/benevolent-machines/crm-super-deduper/blob/main/docs/examples/simple.ipynb\" target=\"_parent\"><img src=\"https://colab.research.google.com/assets/colab-badge.svg\" alt=\"Open In Colab\"/></a>"
      ]
    },
    {
      "cell_type": "markdown",
      "source": [
        "# CRM Super Deduper\n",
        "\n",
        "See our repo for the latest instructions:\n",
        "\n",
        "https://github.com/benevolent-machines/crm-super-deduper\n",
        "\n",
        "\n",
        "\n",
        "\n"
      ],
      "metadata": {
        "id": "YNBXK8dWhsCs"
      }
    },
    {
      "cell_type": "code",
      "source": [
        "!pip install datamachine\n",
        "!pip install XlsxWriter\n",
        "import datamachine as dm\n",
        "repo = 'https://github.com/benevolent-machines/crm-super-deduper'\n",
        "url = f'{repo}/blob/main/docs/main-module.ipynb'\n",
        "deduper = dm.import_notebook(url)"
      ],
      "metadata": {
        "id": "g5_uLl6Rcmjz"
      },
      "execution_count": null,
      "outputs": []
    },
    {
      "cell_type": "code",
      "source": [
        "deduper.run(\n",
        "    input_data = \"donors.csv\", # exported from the CRM\n",
        "    entity_id = \"donor_id\", # unique id\n",
        "    compare = ['first_name', 'last_name', 'address', 'city', 'state'],\n",
        "    crm_links = \"donorperfect\"\n",
        ")"
      ],
      "metadata": {
        "colab": {
          "base_uri": "https://localhost:8080/"
        },
        "id": "W-EWdFh_cuZB",
        "outputId": "f653d4f6-b04d-4cf3-b7ba-253fc359ba68"
      },
      "execution_count": 3,
      "outputs": [
        {
          "output_type": "stream",
          "name": "stdout",
          "text": [
            "loading data\n",
            "processing algorithms\n",
            "(75229, 12)\n",
            "outputting results\n"
          ]
        }
      ]
    }
  ]
}